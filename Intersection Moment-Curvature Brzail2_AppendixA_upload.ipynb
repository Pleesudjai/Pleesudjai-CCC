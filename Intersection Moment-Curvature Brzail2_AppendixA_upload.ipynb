{
 "cells": [
  {
   "cell_type": "markdown",
   "metadata": {
    "id": "vQolEChooxMp"
   },
   "source": [
    "## **This Python code is developed in association with Appendix A of the manuscript**\n",
    "\n",
    "**Title:**\n",
    "*Validation of Concrete and Rebar Response in Hybrid Reinforced Concrete with Low Reinforcement Ratios at Serviceability and Ultimate Domains of Flexural Members*\n",
    "\n",
    "**Authors:**\n",
    "*Chidchanok Pleesudjai, Carlos A. S. Oliveira, Daniel L. Araujo, Devansh Patel, Romildo D. Toledo Filho, Barzin Mobasher*\n",
    "\n",
    "The code provides a closed-form solution for the moment-curvature response of Hybrid Reinforced Concrete (HRC). This model requires material properties of conrete and reforced rebar as input.The moment and curvature will be evaluated at critical stages dominated by the material properties of concrete in compression, concrete in tension, and rebar.\n",
    "\n",
    "\n",
    "The theoretical framework behind this model is comprehensively detailed in the manuscript:\n",
    "Chichanok Pleesudjai, Devansh Patel , Mobasher Mobasher, (2023).\n",
    "Generalized Nonlinear Moment–Curvature Model for Serviceability-Based Design of Hybrid Reinforced Concrete.\n",
    "Journal of Structural Engineering, 149(12).\n",
    "https://doi.org/10.1061/JSENDH.STENG-12235\n",
    "\n",
    "\n",
    "Contact:\n",
    "cpleesud@asu.edu\n",
    "Chidchanok Pleesudjai\n"
   ]
  },
  {
   "cell_type": "code",
   "execution_count": null,
   "metadata": {
    "colab": {
     "base_uri": "https://localhost:8080/"
    },
    "executionInfo": {
     "elapsed": 169,
     "status": "ok",
     "timestamp": 1737419634174,
     "user": {
      "displayName": "Chidchanok Pleesudjai",
      "userId": "00097038516887146279"
     },
     "user_tz": 420
    },
    "id": "4A43bfLwnbzZ",
    "outputId": "928ca6a6-3b1e-4cb1-c6fe-32a4cca452e2"
   },
   "outputs": [
    {
     "name": "stdout",
     "output_type": "stream",
     "text": [
      "c6 : 1392.22729033782\n",
      "c7 : -23957.4344511303\n",
      "c8 : -4862.86654636437\n",
      "c9 : -375.472718476851\n",
      "c10 : 1055.53938678879\n",
      "c11 : -661.920578367836\n"
     ]
    }
   ],
   "source": [
    "import sympy as sp\n",
    "\n",
    "# Concrete tension parameters\n",
    "beta1 = 20\n",
    "eta1 = -0.0015\n",
    "mu = 0.5\n",
    "\n",
    "# Comcrete compression parameter\n",
    "omega = 2.3*8.33\n",
    "\n",
    "# Rebar parameters\n",
    "rho = 0.00052\n",
    "zeta = 1\n",
    "alpha = 0.89\n",
    "kappa = 20\n",
    "n = 9.34\n",
    "\n",
    "# Parameters to calculate Beta at each stages\n",
    "a1 = 1 + rho * n * (zeta + 1)\n",
    "a2 = 1 + 2 * rho * n * (zeta * (1 - alpha) + alpha)\n",
    "a3 = 3 * rho * n * (zeta * (1 - 2 * alpha) + alpha**2 * (zeta + 1)) + 1\n",
    "\n",
    "b1 = 3 * (eta1 - 1) * beta1**2 - eta1 + 1\n",
    "b2 = 2 * (eta1 - 1) * beta1**3\n",
    "b3 = -6 * (eta1 + (zeta + 1) * n* rho) * beta1**3\n",
    "b4 = 6 * (eta1 + 2 * ((-alpha + 1) * zeta + alpha) * n * rho) * beta1**3\n",
    "b5 = -2 * (eta1 + 3 * (((1 - alpha)**2) * zeta + alpha**2) * n * rho) * beta1**3\n",
    "b6 = (eta1 - 1) * (1 - 2 * beta1) + beta1**2 * eta1\n",
    "b7 = rho * n * beta1**2 * (1 + zeta)\n",
    "b8 = 1 - zeta\n",
    "b9 = beta1**2 * (b6 + rho * n * (2 * b6 * (1 - alpha * b8) + 2 * beta1**2 * (zeta + alpha * b8) + b7 * (1 + zeta)))\n",
    "\n",
    "c1 = b6\n",
    "c2 = mu * (alpha - 1)**2 + rho * n * kappa * (1 - zeta - alpha + 3 * zeta * alpha) + kappa * alpha\n",
    "c3 = kappa**2 * (zeta + 1)**2\n",
    "c4 = zeta * (-b6 + 2 * alpha * b6 - 4 * mu * beta1 * alpha + 2 * mu * beta1) + kappa**2 * (-zeta * alpha + alpha + zeta) + mu * kappa * (3 * alpha * zeta - alpha - zeta + 1)\n",
    "c5 = -2 * mu * beta1 * alpha**2 + alpha**2 * b6 + 2 * kappa * mu * alpha + mu**2 * (alpha - 1)**2\n",
    "\n",
    "d1 = -mu + rho * n *omega*(1 + 2 * alpha - 2 * alpha * zeta - zeta)\n",
    "d2 = omega**2 * (1 + zeta)**2\n",
    "d3 = (-4 * alpha * zeta * mu + 4 * mu * alpha * omega + 4 * eta1 * beta1**2\n",
    "      - 2 * eta1 * beta1**3 - 4 * beta1**5 - 2 * n * zeta**3 + 4 * mu * beta1**5\n",
    "      - 2 * mu * omega + 2 * alpha * zeta + 2 * mu * zeta**2\n",
    "      + 2 * mu * omega - 2 * eta1 * beta1**2 * zeta + 4 * eta1 * beta1**2 * alpha\n",
    "      + 4 * beta1 * alpha + 4 * beta1**2 * zeta + 4 * mu * beta1**2 * alpha\n",
    "      + 2 * beta1**3 * omega - 4 * eta1 * zeta * alpha - 4 * beta1 * zeta * alpha\n",
    "      - 4 * mu * zeta * alpha - 2 * omega**2 * zeta - 2 * omega**2 * alpha\n",
    "      + 2 * eta1 * beta1 * alpha - 2 * eta1 * beta1 * zeta)\n",
    "d4 = mu**2\n",
    "\n",
    "e1 = 2 * zeta * alpha * rho *n*omega- zeta * n * rho*omega - kappa * n * rho - mu\n",
    "e2 = zeta**2 * omega**2 - 2 * zeta * kappa * omega + kappa**2\n",
    "e3 = (2*zeta*alpha*eta1*beta1**2 - 4*zeta*alpha*eta1*beta1 - 4*zeta*alpha*mu*omega - 4*zeta*alpha*mu*beta1\n",
    "     - 2*zeta*alpha*omega**2 - 2*zeta*eta1*beta1**2 + 2*zeta*alpha*eta1 + 4*zeta*alpha*beta1 + 4*zeta*eta1*beta1\n",
    "     + 2*zeta*mu*omega + 4*zeta*mu*beta1 + 2*zeta*omega**2 - 2*zeta*alpha - 2*zeta*eta1 - 4*zeta*beta1 + 2*kappa*mu + 2*zeta)\n",
    "e4 = mu**2\n",
    "\n",
    "g1 = 3 *zeta* alpha * kappa * n* rho - zeta * kappa * n*rho - alpha * kappa *n*rho+ alpha**2 * omega + kappa *n* rho - alpha * omega\n",
    "g2 = kappa**2 * (zeta + 1)**2\n",
    "g3 = (4 * zeta * alpha*eta1 * beta1**2 - 8 * zeta * eta1*alpha * beta1 + 6 * zeta * kappa * omega*alpha + 4 * zeta * alpha * omega**2\n",
    "      - 2 * zeta * eta1 * beta1**2 + 4 * zeta *alpha* eta1 + 8 * zeta * alpha * beta1)+(4 * zeta *eta1 * beta1-4 * zeta*kappa*omega-2*zeta*omega**2\n",
    "      -2*alpha*kappa*omega-4*zeta*alpha-2*zeta*eta1-4*zeta*beta1+2*zeta)\n",
    "g4 = omega**2 * alpha**2\n",
    "\n",
    "j1 = 2 * mu * beta1 * alpha - eta1 * beta1**2 * alpha + 2 * rho *n* zeta**2 * (zeta - 1) + alpha * (1 - omega**2) \\\n",
    "     + 2 * omega * kappa + 2 * beta1 * alpha * (eta1 - 1) - eta1 * alpha\n",
    "j2 = rho * n * kappa * (1 - zeta) + alpha * (omega + mu) - omega\n",
    "\n"
   ]
  },
  {
   "cell_type": "code",
   "execution_count": 64,
   "metadata": {
    "executionInfo": {
     "elapsed": 162,
     "status": "ok",
     "timestamp": 1737419634334,
     "user": {
      "displayName": "Chidchanok Pleesudjai",
      "userId": "00097038516887146279"
     },
     "user_tz": 420
    },
    "id": "00jcmoQDnq_J"
   },
   "outputs": [],
   "source": [
    "# Define Beta values\n",
    "beta_11_21 = 1\n",
    "beta_21_41 = beta1\n",
    "beta_41_42 = (c2 + sp.sqrt((alpha - 1)**2 * (rho**2 * n**2 * c3 + 2 * rho * n * c4 + c5))) / (-2 * zeta * rho * n * (1 - 2 * alpha) + alpha**2)\n",
    "beta_41_51 = (d1 + sp.sqrt(rho**2 * n**2 * d2 + rho * n * d3 + d4)) / (-2 * rho * (-alpha + zeta * alpha - zeta))\n",
    "beta_42_52 = (e1 + sp.sqrt(rho**2 * n**2 * e2 + rho * n * e3 + e4)) / (-2 * zeta * rho * n * (alpha - 1))\n",
    "beta_51_52 = (g1 + sp.sqrt((-1 + alpha)**2 * (rho**2 * n**2 * g2 + rho * n * g3 + g4))) / (2 * zeta * rho * (2 * alpha - 1))\n",
    "beta_52_53 = (1/2)*(j1/j2)\n",
    "beta_ult = sp.oo  # Infinity\n"
   ]
  },
  {
   "cell_type": "code",
   "execution_count": null,
   "metadata": {
    "colab": {
     "base_uri": "https://localhost:8080/"
    },
    "executionInfo": {
     "elapsed": 3,
     "status": "ok",
     "timestamp": 1737419634334,
     "user": {
      "displayName": "Chidchanok Pleesudjai",
      "userId": "00097038516887146279"
     },
     "user_tz": 420
    },
    "id": "LwS3zm5annMR",
    "outputId": "8fc01504-b271-49a1-90d6-9874c2787035"
   },
   "outputs": [
    {
     "name": "stdout",
     "output_type": "stream",
     "text": [
      "j1: 423.2420549099999\n",
      "j2: -1.6624899999999982\n",
      "j3: 0\n",
      "j4: 949157.5572045706\n",
      "j5: -35697.7742797754\n",
      "j6: 25237.583815164526\n"
     ]
    }
   ],
   "source": [
    "# Parameters to calculate m, phi and k at each stages\n",
    "\n",
    "## Intersection 4.1 and 4.2 (Stage C)\n",
    "beta = beta_41_42\n",
    "c6 = 3 * beta1**2 * (1 - mu - eta1) + 3 * mu * beta**2 + 2 * eta1 * beta1**3 + eta1 - 1\n",
    "c7 = c6 - 2 * beta**3\n",
    "c8 = 6 * rho * n * (-zeta * beta**3 - kappa * beta**2) - 3 * c6\n",
    "c9 = -12 * zeta * rho *n* beta**3 * alpha + 6 * rho * n * kappa * beta**2 * alpha\n",
    "c10 = 6 * rho * n * (kappa * beta**2 + 2 * zeta * beta**3)\n",
    "c11 = -6 * zeta * rho *n* beta**3 * (1 + alpha**2)\n",
    "\n",
    "## Intersection 4.2 and 5.2 (Stage D)\n",
    "beta = beta_42_52\n",
    "e5 = -2*beta**3 + 2*eta1*beta1**3 + 3*beta**2*mu - 3*eta1*beta1**2 - 3*mu*beta1**2 + 3*beta1**2 + eta1 - 1;\n",
    "e6 = (-6*zeta*beta**3*n*rho - 6*beta**2*kappa*n*rho - 6*eta1*beta1**3 - 9*beta**2*mu + 9*eta1*beta1**2 + 9*mu*beta1**2\n",
    "    - 9*beta1**2 - 3*eta1 + 3);\n",
    "e7 = (-12*zeta*alpha*beta**3*n*rho + 12*zeta*beta**3*n*rho + 6*alpha*beta**2*kappa*n*rho + 6*beta**2*kappa*n*rho + 6*eta1*beta1**3\n",
    "     + 9*beta**2*mu - 9*eta1*beta1**2 - 9*mu*beta1**2 + 9*beta1**2 + 3*eta1 - 3);\n",
    "e8 = (1 - eta1 + 3*beta1**2*(mu - 1 + eta1) - 6*(1 - alpha)**2*zeta*rho*n*beta**3 - 3*beta**2*(2*alpha*kappa*n*rho + mu)\n",
    "    - 2*eta1*beta1**3);\n",
    "\n",
    "## Intersection 5.1 and 5.2 (Stage H)\n",
    "beta = beta_51_52\n",
    "g5 = (2 * eta1 * beta1**3 + 3 * beta**2 * mu + 3 * beta**2 * omega\n",
    "      - 3 * eta1 * beta1**2 - 3 * mu * beta1**2 - omega**3 + 3 * beta1**2 + eta1 - 1)\n",
    "g6 = (-6 * zeta * beta**3 * n * rho - 6 * beta**3 * n * rho - 6 * eta1 * beta1**3\n",
    "      - 9 * beta**2 * mu - 3 * beta**2 * omega + 9 * eta1 * beta1**2 + 9 * mu * beta1**2\n",
    "      +3*omega**3 - 9 * beta1**2 - 3 * eta1 + 3)\n",
    "g7 = (-12 * zeta * alpha * beta**3 * n * rho + 12 * zeta * beta**3 * n * rho\n",
    "      + 12 * alpha * beta**3 * n * rho + 6 * eta1 * beta1**3\n",
    "      + 9 * beta**2 * mu - 9 * mu * beta1**2 - 9 *eta1* beta1**2+9*beta1**2-3*omega**3+3 * eta1 - 3)\n",
    "g8 = (-6 *  alpha**2 * beta**3 * n * rho + 12 * zeta * alpha * beta**3 * n * rho\n",
    "      - 6 * zeta*alpha **2 * beta1**3 * n * rho - 6 * zeta * beta**3 * n * rho\n",
    "      - 2 * eta1 * beta1**3- 3 * beta**2 * mu + 3 * eta1 * beta1**2 + 3 * mu * beta1**2\n",
    "      + omega**3 - 3 * beta1**2 - eta1 + 1)\n",
    "\n",
    "\n",
    "# Equations\n",
    "beta = beta_52_53\n",
    "j3 = 0\n",
    "\n",
    "j4 = (-omega**3 + eta1 + 3 * beta1**2 + 3 * omega * beta**2 - 3 * mu * beta1**2 + 2 * eta1 * beta1**3\n",
    "     + 3 * mu * beta**2 -1- 3 * eta1 * beta1**2)\n",
    "\n",
    "j5 = (2 * omega**3 - 2 * eta1 - 6 * mu * beta**2 - 4 * eta1 * beta1**3 + 6 * mu * beta1**2\n",
    "     - 6 * beta1**2 * (1 - eta1) - 6 * rho*n * beta**2 * (1 - zeta) + 2)\n",
    "j6 = (eta1 - omega**3 + 3 * mu * beta**2 - beta1**2 * (3 * mu - 2 * eta1 + 3 * eta1 - 3)\n",
    "     - 6 * rho *n* kappa * beta**2 * (zeta - alpha - zeta * alpha) - 1)\n",
    "\n",
    "# Print results (optional)\n",
    "print(f\"j1: {j1}\")\n",
    "print(f\"j2: {j2}\")\n",
    "print(f\"j3: {j3}\")\n",
    "print(f\"j4: {j4}\")\n",
    "print(f\"j5: {j5}\")\n",
    "print(f\"j6: {j6}\")\n"
   ]
  },
  {
   "cell_type": "code",
   "execution_count": 66,
   "metadata": {
    "colab": {
     "base_uri": "https://localhost:8080/"
    },
    "executionInfo": {
     "elapsed": 2,
     "status": "ok",
     "timestamp": 1737419634334,
     "user": {
      "displayName": "Chidchanok Pleesudjai",
      "userId": "00097038516887146279"
     },
     "user_tz": 420
    },
    "id": "qz_iggHlnqzf",
    "outputId": "bf7698a3-3e20-4d80-ac26-20a77c4de914"
   },
   "outputs": [
    {
     "name": "stdout",
     "output_type": "stream",
     "text": [
      "Extreme tension fiber\n",
      "beta_11_21 (Stage A): 1\n",
      "beta_21_41 (Stage B): 20\n",
      "beta_41_42 (Stage C): 23.3156426795091\n",
      "beta_41_51 (Stage G): -480.769230769231 + 165400.689311006*I\n",
      "beta_42_52 (Stage D): 261.904864379025\n",
      "beta_51_52 (Stage H): 222.236846703034\n",
      "beta_52_53: -127.29160924577\n",
      "beta_ult (Stage E): oo\n",
      "\n",
      "Neutral axial\n",
      "k_11_21 (Stage A): 0.5\n",
      "k_21_41 (Stage B): 0.244594495556579\n",
      "k_41_42 (Stage C): 0.226478561578387\n",
      "k_41_51 (Stage G): -3.23273607806941e-7 - 0.000115832956037871*I\n",
      "k_42_52 (Stage D): 0.0681660022085349\n",
      "k_51_52 (Stage H): 0.879121665829618\n",
      "k_52_53 : -19.10507792860734\n",
      "k_ult (Stage E): 0.025433643623785546\n",
      "\n",
      "Normalized Moment\n",
      "m_11_21 (Stage A): 1.01772926272\n",
      "m_21_41 (Stage B): 2.78902243980491\n",
      "m_41_42 (Stage C): 2.63128890138317\n",
      "m_41_51 (Stage G): 0.999999340035841*(-1.00000032327361 + 0.000115832956037871*I)*(-1678.67672028743 - 0.562571540042674*I - 4862.86654636437*(-3.23273607806941e-7 - 0.000115832956037871*I)**2 - 23957.4344511303*(-3.23273607806941e-7 - 0.000115832956037871*I)**3)/(-480.769230769231 + 165400.689311006*I)**2\n",
      "m_42_52 (Stage D): 1.98113393084617\n",
      "m_51_52 (Stage H): -33.7339230101195\n",
      "m_52_53 : 2727230.4587331107\n",
      "m_ult (Stage E): 1.4619851721539412\n",
      "\n",
      "Normalized Curvature\n",
      "phi_11_21 (Stage A): 1.0\n",
      "phi_21_41 (Stage B): 13.2379231302636\n",
      "phi_41_42 (Stage C): 15.0711030886779\n",
      "phi_41_51 (Stage G): 0.24999983500896*(-480.769230769231 + 165400.689311006*I)*(2.00000064654722 - 0.000231665912075742*I)\n",
      "phi_42_52 (Stage D): 140.531932189513\n",
      "phi_51_52 (Stage H): 919.258394104699\n",
      "phi_ult (Stage E): oo\n"
     ]
    }
   ],
   "source": [
    "# Define k values; Neural axis location, kh\n",
    "k_11_21 = a2 / (2 * a1)\n",
    "k_21_41 = (-b6 - b7 + sp.sqrt(b9)) / (beta1**2 - b6)\n",
    "k_41_42 = (alpha * beta_41_42 - kappa) / (beta_41_42 - kappa)\n",
    "k_41_51 = omega / (omega + beta_41_51)\n",
    "k_42_52 = omega / (omega + beta_42_52)\n",
    "k_51_52 = (alpha * beta_51_52 - kappa) / (beta_51_52 - kappa)\n",
    "k_52_53 = -kappa*(kappa-1)/(kappa-1+alpha)\n",
    "k_inf = (rho * kappa * (1 - zeta) + mu) / (omega + mu)\n",
    "\n",
    "# Define m value; normalized moment\n",
    "m_11_21 = -2 * (3 * a1 * k_11_21**2 - 3 * a2 * k_11_21 + a3) / (k_11_21 - 1)\n",
    "m_21_41 = ((b2 - b1)*k_21_41**3 + (b3 + 3*b1)*k_21_41**2 + (b4 - 3*b1)*k_21_41 + b5 + b1)/((k_21_41 - 1)*beta1**2)\n",
    "m_41_42 = (c7 * k_41_42**3 + c8 * k_41_42**2 + (c9 + c10 + 3 * c6) * k_41_42 + c11 - c6 - c9) / (beta_41_42**2 * (k_41_42 - 1))\n",
    "m_41_51 = (c7 * k_41_51**3 + c8 * k_41_51**2 + (c9 + c10 + 3 * c6) * k_41_51 + c11 - c6 - c9) / (beta_41_51**2 * (k_41_51 - 1))\n",
    "m_42_52 = (e5 * k_42_52**3 + e6 * k_42_52**2 + e7 * k_42_52 + e8) / (beta_42_52**2 * (k_42_52 - 1))\n",
    "m_51_52 = (-g5 * k_51_52**3 - g6 * k_51_52**2 - g7 * k_51_52 - g8) / (beta_51_52**2 * (k_51_52 - 1))\n",
    "m_52_53 = (j3*k_52_53**3 - j4*k_52_53**2 - j5*k_52_53 - j6)/beta_52_53\n",
    "m_inf = (3 * omega * mu / (omega + mu)) + (-3 * rho**2 * n**2 * k_inf **2 * (1 - zeta)**2 + 3 * rho * k_inf * (2 * mu * alpha * (1 + zeta) - 2 * alpha * zeta + 2 * alpha * omega * (1 + zeta) - 2 * mu)) / (omega + mu)\n",
    "\n",
    "# Define phi equations, normalized curvature\n",
    "phi_11_21 = 1 / (2 * (1 - k_11_21))\n",
    "phi_21_41 = beta1 / (2 * (1 - k_21_41))\n",
    "phi_41_42 = beta_41_42 / (2 * (1 - k_41_42))\n",
    "phi_41_51 = beta_41_51 / (2 * (1 - k_41_51))\n",
    "phi_42_52 = beta_42_52 / (2 * (1 - k_42_52))\n",
    "phi_51_52 = beta_51_52 / (2 * (1 - k_51_52))\n",
    "phi_52_53 = beta_52_53 / (2 * (1 - k_52_53))\n",
    "phi_inf = sp.oo  # Infinity\n",
    "\n",
    "# Print extreme tension fiber at each stage\n",
    "print(\"Extreme tension fiber\")\n",
    "print(f\"beta_11_21 (Stage A): {beta_11_21}\")\n",
    "print(f\"beta_21_41 (Stage B): {beta_21_41}\")\n",
    "print(f\"beta_41_42 (Stage C): {beta_41_42}\")\n",
    "print(f\"beta_41_51 (Stage G): {beta_41_51}\")\n",
    "print(f\"beta_42_52 (Stage D): {beta_42_52}\")\n",
    "print(f\"beta_51_52 (Stage H): {beta_51_52}\")\n",
    "print(f\"beta_52_53: {beta_52_53}\")\n",
    "print(f\"beta_ult (Stage E): {beta_ult}\\n\")\n",
    "\n",
    "# Print neutral axial\n",
    "print(\"Neutral axial\")\n",
    "print(f\"k_11_21 (Stage A): {k_11_21}\")\n",
    "print(f\"k_21_41 (Stage B): {k_21_41}\")\n",
    "print(f\"k_41_42 (Stage C): {k_41_42}\")\n",
    "print(f\"k_41_51 (Stage G): {k_41_51}\")\n",
    "print(f\"k_42_52 (Stage D): {k_42_52}\")\n",
    "print(f\"k_51_52 (Stage H): {k_51_52}\")\n",
    "print(f\"k_52_53 : {k_52_53}\")\n",
    "print(f\"k_ult (Stage E): {k_inf}\\n\")\n",
    "\n",
    "# Print Normalized moment\n",
    "print(\"Normalized Moment\")\n",
    "print(f\"m_11_21 (Stage A): {m_11_21}\")\n",
    "print(f\"m_21_41 (Stage B): {m_21_41}\")\n",
    "print(f\"m_41_42 (Stage C): {m_41_42}\")\n",
    "print(f\"m_41_51 (Stage G): {m_41_51}\")\n",
    "print(f\"m_42_52 (Stage D): {m_42_52}\")\n",
    "print(f\"m_51_52 (Stage H): {m_51_52}\")\n",
    "print(f\"m_52_53 : {m_52_53}\")\n",
    "print(f\"m_ult (Stage E): {m_inf}\\n\")\n",
    "\n",
    "# Print Normalized Curvature\n",
    "print(\"Normalized Curvature\")\n",
    "print(f\"phi_11_21 (Stage A): {phi_11_21}\")\n",
    "print(f\"phi_21_41 (Stage B): {phi_21_41}\")\n",
    "print(f\"phi_41_42 (Stage C): {phi_41_42}\")\n",
    "print(f\"phi_41_51 (Stage G): {phi_41_51}\")\n",
    "print(f\"phi_42_52 (Stage D): {phi_42_52}\")\n",
    "print(f\"phi_51_52 (Stage H): {phi_51_52}\")\n",
    "print(f\"phi_ult (Stage E): {phi_inf}\")"
   ]
  }
 ],
 "metadata": {
  "colab": {
   "authorship_tag": "ABX9TyO781rF0VrmRY0nscI9Ia+Z",
   "provenance": []
  },
  "kernelspec": {
   "display_name": "Python 3",
   "name": "python3"
  },
  "language_info": {
   "name": "python"
  }
 },
 "nbformat": 4,
 "nbformat_minor": 0
}
